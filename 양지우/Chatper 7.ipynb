{
 "cells": [
  {
   "cell_type": "markdown",
   "id": "d5af67c0",
   "metadata": {},
   "source": [
    "### 7-2"
   ]
  },
  {
   "cell_type": "code",
   "execution_count": 8,
   "id": "7e698f09",
   "metadata": {},
   "outputs": [
    {
     "name": "stdout",
     "output_type": "stream",
     "text": [
      "5 9\n",
      "8 3 5 7 9\n",
      "5\n"
     ]
    }
   ],
   "source": [
    "#이진 탐색 소스코드 구현(재귀 함수)\n",
    "def binary_search(array,target,start,end):\n",
    "    if start>end:\n",
    "        return None\n",
    "    mid = (start+end) // 2\n",
    "    #찾은 경우 중간점 인덱스 반환\n",
    "    if array[mid] == target:\n",
    "        return mid\n",
    "    #중간점의 값보다 찾고자 하는 값이 작은 경우 왼쪽 확인\n",
    "    elif array[mid] > target:\n",
    "        return binary_search(array,target,start,mid-1)\n",
    "    #중간점의 값보다 찾고자 하는 값이 큰 경우 오른쪽 확인\n",
    "    else:\n",
    "        return binary_search(array,target,mid+1,end)\n",
    "\n",
    "#n(원소의 개수)과 target(찾고자 하는 문자열)을 입력받기\n",
    "n,target=list(map(int,input().split()))\n",
    "#전체 원소 입력받기\n",
    "array=list(map(int,input().split()))\n",
    "\n",
    "#이진 탐색 수행 결과 출력\n",
    "result=binary_search(array,target,0,n-1)\n",
    "if result==None:\n",
    "    print('원소가 존재하지 않습니다')\n",
    "else:\n",
    "    print(result+1)"
   ]
  },
  {
   "cell_type": "markdown",
   "id": "569250f7",
   "metadata": {},
   "source": [
    "### 7-3"
   ]
  },
  {
   "cell_type": "code",
   "execution_count": null,
   "id": "2b000131",
   "metadata": {},
   "outputs": [],
   "source": [
    "# 이진 탐색 소스토드 구현(반복문)\n",
    "def binary_search(array,target,start,end):\n",
    "    while start<=end:\n",
    "        mid=(start+end)//2\n",
    "        #찾은 경우 중간점 인덱스 반환\n",
    "        if array[mid]==target:\n",
    "            return mid\n",
    "        #중간점의 값보다 찾고자 하는 값이 작은 경우 왼쪽 확인\n",
    "        elif array[mid]>target:\n",
    "            end=mid-1\n",
    "        #중간점의 값보다 찾고자 하는 값이 큰 경우 오른쪽 확인\n",
    "        else:\n",
    "            start=mid+1\n",
    "    return None\n",
    "\n",
    "#n(원소의 개수)과 target(찾고자 하는 문자열)을 입력받기\n",
    "n,target=list(map(int,input().split()))\n",
    "#전체 원소 입력받기\n",
    "array=list(map(int,input().split()))\n",
    "\n",
    "#이진 탐색 수행 결과 출력\n",
    "result=binary_search(array,target,0,n-1)\n",
    "if result==None:\n",
    "    print('원소가 존재하지 않습니다')\n",
    "else:\n",
    "    print(result+1)"
   ]
  },
  {
   "cell_type": "markdown",
   "id": "1945de6b",
   "metadata": {},
   "source": [
    "### 7-4"
   ]
  },
  {
   "cell_type": "code",
   "execution_count": 3,
   "id": "ea9a6b1d",
   "metadata": {},
   "outputs": [
    {
     "name": "stdout",
     "output_type": "stream",
     "text": [
      "\n"
     ]
    }
   ],
   "source": [
    "#시간을 단축하기 위해서는 input()보다는 sys사용\n",
    "import sys\n",
    "#하나의 문자열 데이터 입력받기\n",
    "input_data=sys.stdin.readline().rstrip()\n",
    "\n",
    "#입력받은 문자열 그대로 출력\n",
    "print(input_data)"
   ]
  },
  {
   "cell_type": "markdown",
   "id": "5d344d81",
   "metadata": {},
   "source": [
    "### 7-5"
   ]
  },
  {
   "cell_type": "code",
   "execution_count": 5,
   "id": "0d318cfc",
   "metadata": {},
   "outputs": [
    {
     "name": "stdout",
     "output_type": "stream",
     "text": [
      "5\n",
      "8 3 7 9 2\n",
      "3\n",
      "5 7 9\n",
      "no\n",
      "yes\n",
      "yes\n"
     ]
    }
   ],
   "source": [
    "def binary_search(array,target,start,end):\n",
    "    if start>end:\n",
    "        return None\n",
    "    mid=(start+end)//2\n",
    "    if array[mid]==target:\n",
    "        return mid\n",
    "    elif array[mid]>target:\n",
    "        return binary_search(array,target,start,mid-1)\n",
    "    else:\n",
    "        return binary_search(array,target,mid+1,end)\n",
    "\n",
    "    \n",
    "n=int(input())\n",
    "array=sorted(list(map(int,input().split())))\n",
    "\n",
    "m=int(input())\n",
    "x=list(map(int,input().split()))\n",
    "\n",
    "for i in x:\n",
    "    result=binary_search(array,i,0,n-1)\n",
    "    if result==None:\n",
    "        print('no')\n",
    "    else:\n",
    "        print('yes')  \n",
    "    \n"
   ]
  },
  {
   "cell_type": "markdown",
   "id": "dcb7a732",
   "metadata": {},
   "source": [
    "### 7-6"
   ]
  },
  {
   "cell_type": "code",
   "execution_count": 8,
   "id": "fe0429dc",
   "metadata": {},
   "outputs": [
    {
     "name": "stdout",
     "output_type": "stream",
     "text": [
      "5\n",
      "8\n",
      "3\n",
      "7\n",
      "no "
     ]
    }
   ],
   "source": [
    "# 계수 정렬\n",
    "#N(가게의 부품 개수)을 입력받기\n",
    "n=int(input())\n",
    "array=[0]*1000001\n",
    "\n",
    "#가게에 있는 전체 부품 번호를 입력받아서 기록\n",
    "for i in input().split():\n",
    "    array[int(i)]=1\n",
    "    \n",
    "#M(손님이 확인 요청한 부품 개수)을 입력받기\n",
    "m=int(input())\n",
    "#손님이 확인 요청한 전체 부품 버호를 공백으로 구분하여 입력\n",
    "x=list(map(int,input().split()))\n",
    "\n",
    "#손님이 확인 요청한 부춤 번호를 하나씩 확인\n",
    "for i in x:\n",
    "    #해당 부품이 존재하는지 확인\n",
    "    if array[i]==1:\n",
    "        print('yes',end=' ')\n",
    "    else:\n",
    "        print('no',end=' ')"
   ]
  },
  {
   "cell_type": "markdown",
   "id": "a308b651",
   "metadata": {},
   "source": [
    "### 7-7"
   ]
  },
  {
   "cell_type": "code",
   "execution_count": null,
   "id": "0e0fd1f3",
   "metadata": {},
   "outputs": [],
   "source": [
    "# N(가게의 부품 개수)을 입력받기\n",
    "n=int(input())\n",
    "#가게에 있는 전체 부품 번호를 입력받아서 집합(set) 자료형에 기록\n",
    "array=set(map(int,input().split()))\n",
    "\n",
    "#M(손님이 확인 요청한 부품 개수)을 입력받기\n",
    "m=int(input())\n",
    "#손님이 확인 요청한 전체 부품 번호를 공백으로 구분하여 입력\n",
    "x=list(map(int,input().split()))\n",
    "\n",
    "#손님이 확인 요청한 부품 번호를 하나씩 확인\n",
    "for i in x:\n",
    "    #해당 부품이 존재하는지 확인\n",
    "    if array[i]==1:\n",
    "        print('yes',end=' ')\n",
    "    else:\n",
    "        print('no',end=' ')"
   ]
  },
  {
   "cell_type": "markdown",
   "id": "afb78552",
   "metadata": {},
   "source": [
    "### 7-8"
   ]
  },
  {
   "cell_type": "code",
   "execution_count": 1,
   "id": "b15243f4",
   "metadata": {},
   "outputs": [
    {
     "name": "stdout",
     "output_type": "stream",
     "text": [
      "4 6\n",
      "19 15 10 17\n"
     ]
    },
    {
     "data": {
      "text/plain": [
       "15"
      ]
     },
     "execution_count": 1,
     "metadata": {},
     "output_type": "execute_result"
    }
   ],
   "source": [
    "def binary_search(array,n,start,end):\n",
    "    \n",
    "    mid=(start+end)//2\n",
    "    total=0\n",
    "    total=sum([i-mid for i in array if i>mid ])\n",
    "    \n",
    "    if total==n:\n",
    "        return mid\n",
    "    elif total<n:\n",
    "        return binary_search(array,n,start,mid-1)\n",
    "    else:\n",
    "        return binary_search(array,n,mid+1,end)\n",
    "    if start>end:\n",
    "        return mid\n",
    "\n",
    "    \n",
    "n, m=list(map(int,input().split(' ')))\n",
    "array=sorted(list(map(int,input().split())))\n",
    "\n",
    "binary_search(array,m,0,max(array))\n"
   ]
  },
  {
   "cell_type": "code",
   "execution_count": null,
   "id": "3004a337",
   "metadata": {},
   "outputs": [],
   "source": []
  }
 ],
 "metadata": {
  "kernelspec": {
   "display_name": "Python 3 (ipykernel)",
   "language": "python",
   "name": "python3"
  },
  "language_info": {
   "codemirror_mode": {
    "name": "ipython",
    "version": 3
   },
   "file_extension": ".py",
   "mimetype": "text/x-python",
   "name": "python",
   "nbconvert_exporter": "python",
   "pygments_lexer": "ipython3",
   "version": "3.10.4"
  }
 },
 "nbformat": 4,
 "nbformat_minor": 5
}
