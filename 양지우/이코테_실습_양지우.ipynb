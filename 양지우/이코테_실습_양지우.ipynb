{
 "cells": [
  {
   "cell_type": "markdown",
   "metadata": {
    "id": "SoJUSanywuWw"
   },
   "source": [
    "## Chapter 03. 그리디"
   ]
  },
  {
   "cell_type": "code",
   "execution_count": null,
   "metadata": {
    "colab": {
     "base_uri": "https://localhost:8080/"
    },
    "id": "yH5NoSfagx3f",
    "outputId": "4d6bc26d-5735-4056-bce6-ec75e520f37b"
   },
   "outputs": [
    {
     "name": "stdout",
     "output_type": "stream",
     "text": [
      "6\n"
     ]
    }
   ],
   "source": [
    "def solution(n):\n",
    "  count=0\n",
    "  coin_types=[500,100,50,10]\n",
    "\n",
    "  for coin in coin_types:\n",
    "    count+=n//coin\n",
    "    n=n%coin\n",
    "\n",
    "  print(count)\n",
    "\n",
    "solution(1260)"
   ]
  },
  {
   "cell_type": "markdown",
   "metadata": {
    "id": "MMJw2fTdwy83"
   },
   "source": [
    "### 3-1"
   ]
  },
  {
   "cell_type": "code",
   "execution_count": null,
   "metadata": {
    "colab": {
     "base_uri": "https://localhost:8080/"
    },
    "id": "okTJaDR3bEFh",
    "outputId": "ddd31f09-3360-41ab-abbe-ff4225fd29f1"
   },
   "outputs": [
    {
     "name": "stdout",
     "output_type": "stream",
     "text": [
      "5 8 3\n",
      "2 4 5 4 6\n",
      "46\n"
     ]
    }
   ],
   "source": [
    "n,m,k=map(int,input().split())\n",
    "data=list(map(int,input().split()))\n",
    "data.sort(reverse=True)\n",
    "sum = data[0]*k*(m//(k+1))+data[1]*1*(m//(k+1))+data[0]*(m%(k+1))\n",
    "print(sum)"
   ]
  },
  {
   "cell_type": "code",
   "execution_count": null,
   "metadata": {
    "colab": {
     "base_uri": "https://localhost:8080/"
    },
    "id": "q06uBhCZcMww",
    "outputId": "c66d6ecd-4db3-495d-b745-8df2e27a29ca"
   },
   "outputs": [
    {
     "name": "stdout",
     "output_type": "stream",
     "text": [
      "5 8 3\n",
      "2 4 5 4 6\n",
      "46\n"
     ]
    }
   ],
   "source": [
    "n,m,k=map(int,input().split())\n",
    "data=list(map(int,input().split()))\n",
    "data.sort(reverse=True)\n",
    "\n",
    "count=int(m/(k+1))*k\n",
    "count+=m%(k+1)\n",
    "\n",
    "result=0\n",
    "result+=(count)*data[0]\n",
    "result+=(m-count)*data[1]\n",
    "print(result)"
   ]
  },
  {
   "cell_type": "markdown",
   "metadata": {
    "id": "Hmf4PHjew0s-"
   },
   "source": [
    "### 3-2"
   ]
  },
  {
   "cell_type": "code",
   "execution_count": null,
   "metadata": {
    "colab": {
     "base_uri": "https://localhost:8080/"
    },
    "id": "mT92rhWKePMq",
    "outputId": "fe411860-5f93-4bbd-9320-51d582275771"
   },
   "outputs": [
    {
     "name": "stdout",
     "output_type": "stream",
     "text": [
      "2 4\n",
      "7 3 1 8\n",
      "3 3 3 4\n",
      "3\n"
     ]
    }
   ],
   "source": [
    "small=0\n",
    "n,m=map(int,input().split())\n",
    "for i in range(n):\n",
    "  data=list(map(int,input().split()))\n",
    "  small=max(small,min(data))\n",
    "print(small)"
   ]
  },
  {
   "cell_type": "markdown",
   "metadata": {
    "id": "c1WidgXmw1eG"
   },
   "source": [
    "### 3-3"
   ]
  },
  {
   "cell_type": "code",
   "execution_count": null,
   "metadata": {
    "colab": {
     "base_uri": "https://localhost:8080/"
    },
    "id": "r0PLQgp5e8wm",
    "outputId": "33aea446-2c41-44af-9404-75fa82f284f2"
   },
   "outputs": [
    {
     "name": "stdout",
     "output_type": "stream",
     "text": [
      "25 3\n",
      "6\n"
     ]
    }
   ],
   "source": [
    "n,k=map(int,input().split())\n",
    "count=0\n",
    "while n!=1:\n",
    "  if n%k==0:\n",
    "    n=n//k\n",
    "  else:\n",
    "    n=n-1\n",
    "  count+=1\n",
    "\n",
    "print(count)"
   ]
  },
  {
   "cell_type": "markdown",
   "metadata": {
    "id": "gmcvLDrnw2lu"
   },
   "source": [
    "## Chapter 04.구현"
   ]
  },
  {
   "cell_type": "markdown",
   "metadata": {
    "id": "J4oOkANV1Mcz"
   },
   "source": [
    "### 4-1"
   ]
  },
  {
   "cell_type": "code",
   "execution_count": 28,
   "metadata": {
    "colab": {
     "base_uri": "https://localhost:8080/"
    },
    "id": "noI3dLmOw5L_",
    "outputId": "6358458f-5f63-4777-9dc4-66cbf84899cc"
   },
   "outputs": [
    {
     "name": "stdout",
     "output_type": "stream",
     "text": [
      "5\n",
      "R R R U D D\n",
      "[3, 4]\n"
     ]
    }
   ],
   "source": [
    "n=map(int,input())\n",
    "data=list(input().split())\n",
    "x=1\n",
    "y=1\n",
    "dic={'R':1,'L':-1,'U':-1,'D':1}\n",
    "for i in data:\n",
    "  if i in ['R','L']:\n",
    "    x+=dic[i]\n",
    "  elif i in ['U','D']:\n",
    "    y+=dic[i]\n",
    "  if (x<1)|(x>5):\n",
    "    x-=dic[i]\n",
    "  if (y<1)|(y>5):\n",
    "    y-=dic[i]\n",
    "\n",
    "print([y,x])"
   ]
  },
  {
   "cell_type": "code",
   "execution_count": 30,
   "metadata": {
    "colab": {
     "base_uri": "https://localhost:8080/"
    },
    "id": "pPkLuvPg2Ge8",
    "outputId": "9a85282b-7bb6-4f6e-c507-23ab015b7bc3"
   },
   "outputs": [
    {
     "data": {
      "text/plain": [
       "False"
      ]
     },
     "execution_count": 30,
     "metadata": {},
     "output_type": "execute_result"
    }
   ],
   "source": [
    "'3' in str(14)"
   ]
  },
  {
   "cell_type": "markdown",
   "metadata": {
    "id": "yoa5MTMR1Yhb"
   },
   "source": [
    "### 4-2"
   ]
  },
  {
   "cell_type": "code",
   "execution_count": 37,
   "metadata": {
    "colab": {
     "base_uri": "https://localhost:8080/"
    },
    "id": "VROdWe4Gz-F6",
    "outputId": "fecb63b6-c71b-484c-c0e8-26696596b7b9"
   },
   "outputs": [
    {
     "name": "stdout",
     "output_type": "stream",
     "text": [
      "5\n",
      "11475\n"
     ]
    }
   ],
   "source": [
    "h=int(input())\n",
    "count=0\n",
    "\n",
    "for i in range(h+1):\n",
    "  for j in range(60):\n",
    "    for z in range(60):\n",
    "      if '3' in str(i)+str(j)+str(z):\n",
    "        count+=1\n",
    "print(count)"
   ]
  },
  {
   "cell_type": "markdown",
   "metadata": {
    "id": "4c6IYRp27FHD"
   },
   "source": [
    "### 4-3"
   ]
  },
  {
   "cell_type": "code",
   "execution_count": 50,
   "metadata": {
    "colab": {
     "base_uri": "https://localhost:8080/"
    },
    "id": "3SMsKjcE2032",
    "outputId": "ee85190a-30b9-4237-c59a-7fe02a1fc7c9"
   },
   "outputs": [
    {
     "name": "stdout",
     "output_type": "stream",
     "text": [
      "a1\n",
      "2\n"
     ]
    }
   ],
   "source": [
    "eng={'a':1,'b':2,'c':3,'d':4,'e':5,'f':6,'h':7,'i':8}\n",
    "root=[[1,2],[1,-2],[2,1],[2,-1],[-1,2],[-1,-2],[-2,1],[-2,-1]]\n",
    "count=0\n",
    "\n",
    "data=input()\n",
    "for i in root:\n",
    "  x=eng[data[0]]+i[0]\n",
    "  y=int(data[1])+i[1]\n",
    "  if (x>=1)&(x<=8)&(y>=1)&(y<=8):\n",
    "    count+=1\n",
    "print(count)"
   ]
  },
  {
   "cell_type": "markdown",
   "metadata": {
    "id": "eAIsbuYV7jj0"
   },
   "source": [
    "### 4-3"
   ]
  },
  {
   "cell_type": "code",
   "execution_count": null,
   "metadata": {
    "id": "1E6QN6yD6Wlx"
   },
   "outputs": [],
   "source": [
    "map_size=list(map(int,input.split()))\n",
    "x,y,z=map(int,input.split())\n",
    "all_map\n",
    "for i in range(map_size[1]):\n",
    "  list(map(int,input.split()))"
   ]
  },
  {
   "cell_type": "code",
   "execution_count": null,
   "metadata": {},
   "outputs": [],
   "source": [
    "n,m=map(int,input().split())\n",
    "d=[[0]*m for _ in range(n)]\n",
    "x,y,direction=map(int,input().split())\n",
    "d[x][y]=1\n",
    "\n",
    "array=[]\n",
    "for i in range(n):\n",
    "  array.append(list(map(int,input().split())))\n",
    "\n",
    "dx=[-1,0,1,0]\n",
    "dy=[0,1,0,-1]\n",
    "\n",
    "def turn_left():\n",
    "  global direction\n",
    "  direction -= 1\n",
    "  if direction==-1:\n",
    "    direction=3\n",
    "count=1\n",
    "turn_time=0\n",
    "while True:\n",
    "  turn_left()\n",
    "  nx=x+dx[direction]\n",
    "  ny=y+dy[direction]\n",
    "  if d[nx][ny]==0 and array[nx][ny]==0:\n",
    "    d[nx][ny]=1\n",
    "    x=nx\n",
    "    y=ny\n",
    "    count+=1\n",
    "    turn_time=0\n",
    "    continue\n",
    "  else:\n",
    "    turn_time+=1\n",
    "  if turn_time==4:\n",
    "    nx=x-dx[direction]\n",
    "    ny=y-dy[direction]\n",
    "    if array[nx][ny] ==0:\n",
    "      x=nx\n",
    "      y=ny\n",
    "    else:\n",
    "      break\n",
    "    turn_time=0\n",
    "\n",
    "print(count)"
   ]
  },
  {
   "cell_type": "markdown",
   "metadata": {},
   "source": [
    "## Chapter 05. DFS/BFS"
   ]
  },
  {
   "cell_type": "markdown",
   "metadata": {},
   "source": [
    "### 5-1"
   ]
  },
  {
   "cell_type": "code",
   "execution_count": null,
   "metadata": {},
   "outputs": [],
   "source": [
    "stack=[]\n",
    "stack.append(5)\n",
    "stack.append(2)\n",
    "stack.append(3)\n",
    "stack.append(7)\n",
    "stack.pop()\n",
    "stack.append(1)\n",
    "stack.append(4)\n",
    "stack.pop()\n",
    "\n",
    "print(stack)\n",
    "print(stack[::-1])"
   ]
  },
  {
   "cell_type": "markdown",
   "metadata": {},
   "source": [
    "### 5-2"
   ]
  },
  {
   "cell_type": "code",
   "execution_count": null,
   "metadata": {},
   "outputs": [],
   "source": [
    "from collections import deque\n",
    "\n",
    "queue=deque()\n",
    "\n",
    "queue.append(5)\n",
    "queue.append(2)\n",
    "queue.append(3)\n",
    "queue.append(7)\n",
    "queue.popleft()\n",
    "queue.append(1)\n",
    "queue.append(4)\n",
    "queue.popleft()\n",
    "\n",
    "print(queue)\n",
    "queue.reverse()\n",
    "print(queue)"
   ]
  },
  {
   "cell_type": "markdown",
   "metadata": {},
   "source": [
    "### 5-3"
   ]
  },
  {
   "cell_type": "code",
   "execution_count": null,
   "metadata": {},
   "outputs": [],
   "source": [
    "def recursive_function():\n",
    "  print(\"재귀 함수를 호출합니다.\")\n",
    "  recursive_function()\n",
    "\n",
    "recursive_function()"
   ]
  },
  {
   "cell_type": "markdown",
   "metadata": {},
   "source": [
    "### 5-4"
   ]
  },
  {
   "cell_type": "code",
   "execution_count": 2,
   "metadata": {
    "collapsed": true
   },
   "outputs": [
    {
     "name": "stdout",
     "output_type": "stream",
     "text": [
      "1 번째 재귀 함수에서 2 번째 재귀 함수를 호출합니다.\n",
      "2 번째 재귀 함수에서 3 번째 재귀 함수를 호출합니다.\n",
      "3 번째 재귀 함수에서 4 번째 재귀 함수를 호출합니다.\n",
      "4 번째 재귀 함수에서 5 번째 재귀 함수를 호출합니다.\n",
      "5 번째 재귀 함수에서 6 번째 재귀 함수를 호출합니다.\n",
      "6 번째 재귀 함수에서 7 번째 재귀 함수를 호출합니다.\n",
      "7 번째 재귀 함수에서 8 번째 재귀 함수를 호출합니다.\n",
      "8 번째 재귀 함수에서 9 번째 재귀 함수를 호출합니다.\n",
      "9 번째 재귀 함수에서 10 번째 재귀 함수를 호출합니다.\n",
      "10 번째 재귀 함수에서 11 번째 재귀 함수를 호출합니다.\n",
      "11 번째 재귀 함수에서 12 번째 재귀 함수를 호출합니다.\n",
      "12 번째 재귀 함수에서 13 번째 재귀 함수를 호출합니다.\n",
      "13 번째 재귀 함수에서 14 번째 재귀 함수를 호출합니다.\n",
      "14 번째 재귀 함수에서 15 번째 재귀 함수를 호출합니다.\n",
      "15 번째 재귀 함수에서 16 번째 재귀 함수를 호출합니다.\n",
      "16 번째 재귀 함수에서 17 번째 재귀 함수를 호출합니다.\n",
      "17 번째 재귀 함수에서 18 번째 재귀 함수를 호출합니다.\n",
      "18 번째 재귀 함수에서 19 번째 재귀 함수를 호출합니다.\n",
      "19 번째 재귀 함수에서 20 번째 재귀 함수를 호출합니다.\n",
      "20 번째 재귀 함수에서 21 번째 재귀 함수를 호출합니다.\n",
      "21 번째 재귀 함수에서 22 번째 재귀 함수를 호출합니다.\n",
      "22 번째 재귀 함수에서 23 번째 재귀 함수를 호출합니다.\n",
      "23 번째 재귀 함수에서 24 번째 재귀 함수를 호출합니다.\n",
      "24 번째 재귀 함수에서 25 번째 재귀 함수를 호출합니다.\n",
      "25 번째 재귀 함수에서 26 번째 재귀 함수를 호출합니다.\n",
      "26 번째 재귀 함수에서 27 번째 재귀 함수를 호출합니다.\n",
      "27 번째 재귀 함수에서 28 번째 재귀 함수를 호출합니다.\n",
      "28 번째 재귀 함수에서 29 번째 재귀 함수를 호출합니다.\n",
      "29 번째 재귀 함수에서 30 번째 재귀 함수를 호출합니다.\n",
      "30 번째 재귀 함수에서 31 번째 재귀 함수를 호출합니다.\n",
      "31 번째 재귀 함수에서 32 번째 재귀 함수를 호출합니다.\n",
      "32 번째 재귀 함수에서 33 번째 재귀 함수를 호출합니다.\n",
      "33 번째 재귀 함수에서 34 번째 재귀 함수를 호출합니다.\n",
      "34 번째 재귀 함수에서 35 번째 재귀 함수를 호출합니다.\n",
      "35 번째 재귀 함수에서 36 번째 재귀 함수를 호출합니다.\n",
      "36 번째 재귀 함수에서 37 번째 재귀 함수를 호출합니다.\n",
      "37 번째 재귀 함수에서 38 번째 재귀 함수를 호출합니다.\n",
      "38 번째 재귀 함수에서 39 번째 재귀 함수를 호출합니다.\n",
      "39 번째 재귀 함수에서 40 번째 재귀 함수를 호출합니다.\n",
      "40 번째 재귀 함수에서 41 번째 재귀 함수를 호출합니다.\n",
      "41 번째 재귀 함수에서 42 번째 재귀 함수를 호출합니다.\n",
      "42 번째 재귀 함수에서 43 번째 재귀 함수를 호출합니다.\n",
      "43 번째 재귀 함수에서 44 번째 재귀 함수를 호출합니다.\n",
      "44 번째 재귀 함수에서 45 번째 재귀 함수를 호출합니다.\n",
      "45 번째 재귀 함수에서 46 번째 재귀 함수를 호출합니다.\n",
      "46 번째 재귀 함수에서 47 번째 재귀 함수를 호출합니다.\n",
      "47 번째 재귀 함수에서 48 번째 재귀 함수를 호출합니다.\n",
      "48 번째 재귀 함수에서 49 번째 재귀 함수를 호출합니다.\n",
      "49 번째 재귀 함수에서 50 번째 재귀 함수를 호출합니다.\n",
      "50 번째 재귀 함수에서 51 번째 재귀 함수를 호출합니다.\n",
      "51 번째 재귀 함수에서 52 번째 재귀 함수를 호출합니다.\n",
      "52 번째 재귀 함수에서 53 번째 재귀 함수를 호출합니다.\n",
      "53 번째 재귀 함수에서 54 번째 재귀 함수를 호출합니다.\n",
      "54 번째 재귀 함수에서 55 번째 재귀 함수를 호출합니다.\n",
      "55 번째 재귀 함수에서 56 번째 재귀 함수를 호출합니다.\n",
      "56 번째 재귀 함수에서 57 번째 재귀 함수를 호출합니다.\n",
      "57 번째 재귀 함수에서 58 번째 재귀 함수를 호출합니다.\n",
      "58 번째 재귀 함수에서 59 번째 재귀 함수를 호출합니다.\n",
      "59 번째 재귀 함수에서 60 번째 재귀 함수를 호출합니다.\n",
      "60 번째 재귀 함수에서 61 번째 재귀 함수를 호출합니다.\n",
      "61 번째 재귀 함수에서 62 번째 재귀 함수를 호출합니다.\n",
      "62 번째 재귀 함수에서 63 번째 재귀 함수를 호출합니다.\n",
      "63 번째 재귀 함수에서 64 번째 재귀 함수를 호출합니다.\n",
      "64 번째 재귀 함수에서 65 번째 재귀 함수를 호출합니다.\n",
      "65 번째 재귀 함수에서 66 번째 재귀 함수를 호출합니다.\n",
      "66 번째 재귀 함수에서 67 번째 재귀 함수를 호출합니다.\n",
      "67 번째 재귀 함수에서 68 번째 재귀 함수를 호출합니다.\n",
      "68 번째 재귀 함수에서 69 번째 재귀 함수를 호출합니다.\n",
      "69 번째 재귀 함수에서 70 번째 재귀 함수를 호출합니다.\n",
      "70 번째 재귀 함수에서 71 번째 재귀 함수를 호출합니다.\n",
      "71 번째 재귀 함수에서 72 번째 재귀 함수를 호출합니다.\n",
      "72 번째 재귀 함수에서 73 번째 재귀 함수를 호출합니다.\n",
      "73 번째 재귀 함수에서 74 번째 재귀 함수를 호출합니다.\n",
      "74 번째 재귀 함수에서 75 번째 재귀 함수를 호출합니다.\n",
      "75 번째 재귀 함수에서 76 번째 재귀 함수를 호출합니다.\n",
      "76 번째 재귀 함수에서 77 번째 재귀 함수를 호출합니다.\n",
      "77 번째 재귀 함수에서 78 번째 재귀 함수를 호출합니다.\n",
      "78 번째 재귀 함수에서 79 번째 재귀 함수를 호출합니다.\n",
      "79 번째 재귀 함수에서 80 번째 재귀 함수를 호출합니다.\n",
      "80 번째 재귀 함수에서 81 번째 재귀 함수를 호출합니다.\n",
      "81 번째 재귀 함수에서 82 번째 재귀 함수를 호출합니다.\n",
      "82 번째 재귀 함수에서 83 번째 재귀 함수를 호출합니다.\n",
      "83 번째 재귀 함수에서 84 번째 재귀 함수를 호출합니다.\n",
      "84 번째 재귀 함수에서 85 번째 재귀 함수를 호출합니다.\n",
      "85 번째 재귀 함수에서 86 번째 재귀 함수를 호출합니다.\n",
      "86 번째 재귀 함수에서 87 번째 재귀 함수를 호출합니다.\n",
      "87 번째 재귀 함수에서 88 번째 재귀 함수를 호출합니다.\n",
      "88 번째 재귀 함수에서 89 번째 재귀 함수를 호출합니다.\n",
      "89 번째 재귀 함수에서 90 번째 재귀 함수를 호출합니다.\n",
      "90 번째 재귀 함수에서 91 번째 재귀 함수를 호출합니다.\n",
      "91 번째 재귀 함수에서 92 번째 재귀 함수를 호출합니다.\n",
      "92 번째 재귀 함수에서 93 번째 재귀 함수를 호출합니다.\n",
      "93 번째 재귀 함수에서 94 번째 재귀 함수를 호출합니다.\n",
      "94 번째 재귀 함수에서 95 번째 재귀 함수를 호출합니다.\n",
      "95 번째 재귀 함수에서 96 번째 재귀 함수를 호출합니다.\n",
      "96 번째 재귀 함수에서 97 번째 재귀 함수를 호출합니다.\n",
      "97 번째 재귀 함수에서 98 번째 재귀 함수를 호출합니다.\n",
      "98 번째 재귀 함수에서 99 번째 재귀 함수를 호출합니다.\n",
      "99 번째 재귀 함수에서 100 번째 재귀 함수를 호출합니다.\n",
      "99 번째 재귀 함수를 종료합니다.\n",
      "98 번째 재귀 함수를 종료합니다.\n",
      "97 번째 재귀 함수를 종료합니다.\n",
      "96 번째 재귀 함수를 종료합니다.\n",
      "95 번째 재귀 함수를 종료합니다.\n",
      "94 번째 재귀 함수를 종료합니다.\n",
      "93 번째 재귀 함수를 종료합니다.\n",
      "92 번째 재귀 함수를 종료합니다.\n",
      "91 번째 재귀 함수를 종료합니다.\n",
      "90 번째 재귀 함수를 종료합니다.\n",
      "89 번째 재귀 함수를 종료합니다.\n",
      "88 번째 재귀 함수를 종료합니다.\n",
      "87 번째 재귀 함수를 종료합니다.\n",
      "86 번째 재귀 함수를 종료합니다.\n",
      "85 번째 재귀 함수를 종료합니다.\n",
      "84 번째 재귀 함수를 종료합니다.\n",
      "83 번째 재귀 함수를 종료합니다.\n",
      "82 번째 재귀 함수를 종료합니다.\n",
      "81 번째 재귀 함수를 종료합니다.\n",
      "80 번째 재귀 함수를 종료합니다.\n",
      "79 번째 재귀 함수를 종료합니다.\n",
      "78 번째 재귀 함수를 종료합니다.\n",
      "77 번째 재귀 함수를 종료합니다.\n",
      "76 번째 재귀 함수를 종료합니다.\n",
      "75 번째 재귀 함수를 종료합니다.\n",
      "74 번째 재귀 함수를 종료합니다.\n",
      "73 번째 재귀 함수를 종료합니다.\n",
      "72 번째 재귀 함수를 종료합니다.\n",
      "71 번째 재귀 함수를 종료합니다.\n",
      "70 번째 재귀 함수를 종료합니다.\n",
      "69 번째 재귀 함수를 종료합니다.\n",
      "68 번째 재귀 함수를 종료합니다.\n",
      "67 번째 재귀 함수를 종료합니다.\n",
      "66 번째 재귀 함수를 종료합니다.\n",
      "65 번째 재귀 함수를 종료합니다.\n",
      "64 번째 재귀 함수를 종료합니다.\n",
      "63 번째 재귀 함수를 종료합니다.\n",
      "62 번째 재귀 함수를 종료합니다.\n",
      "61 번째 재귀 함수를 종료합니다.\n",
      "60 번째 재귀 함수를 종료합니다.\n",
      "59 번째 재귀 함수를 종료합니다.\n",
      "58 번째 재귀 함수를 종료합니다.\n",
      "57 번째 재귀 함수를 종료합니다.\n",
      "56 번째 재귀 함수를 종료합니다.\n",
      "55 번째 재귀 함수를 종료합니다.\n",
      "54 번째 재귀 함수를 종료합니다.\n",
      "53 번째 재귀 함수를 종료합니다.\n",
      "52 번째 재귀 함수를 종료합니다.\n",
      "51 번째 재귀 함수를 종료합니다.\n",
      "50 번째 재귀 함수를 종료합니다.\n",
      "49 번째 재귀 함수를 종료합니다.\n",
      "48 번째 재귀 함수를 종료합니다.\n",
      "47 번째 재귀 함수를 종료합니다.\n",
      "46 번째 재귀 함수를 종료합니다.\n",
      "45 번째 재귀 함수를 종료합니다.\n",
      "44 번째 재귀 함수를 종료합니다.\n",
      "43 번째 재귀 함수를 종료합니다.\n",
      "42 번째 재귀 함수를 종료합니다.\n",
      "41 번째 재귀 함수를 종료합니다.\n",
      "40 번째 재귀 함수를 종료합니다.\n",
      "39 번째 재귀 함수를 종료합니다.\n",
      "38 번째 재귀 함수를 종료합니다.\n",
      "37 번째 재귀 함수를 종료합니다.\n",
      "36 번째 재귀 함수를 종료합니다.\n",
      "35 번째 재귀 함수를 종료합니다.\n",
      "34 번째 재귀 함수를 종료합니다.\n",
      "33 번째 재귀 함수를 종료합니다.\n",
      "32 번째 재귀 함수를 종료합니다.\n",
      "31 번째 재귀 함수를 종료합니다.\n",
      "30 번째 재귀 함수를 종료합니다.\n",
      "29 번째 재귀 함수를 종료합니다.\n",
      "28 번째 재귀 함수를 종료합니다.\n",
      "27 번째 재귀 함수를 종료합니다.\n",
      "26 번째 재귀 함수를 종료합니다.\n",
      "25 번째 재귀 함수를 종료합니다.\n",
      "24 번째 재귀 함수를 종료합니다.\n",
      "23 번째 재귀 함수를 종료합니다.\n",
      "22 번째 재귀 함수를 종료합니다.\n",
      "21 번째 재귀 함수를 종료합니다.\n",
      "20 번째 재귀 함수를 종료합니다.\n",
      "19 번째 재귀 함수를 종료합니다.\n",
      "18 번째 재귀 함수를 종료합니다.\n",
      "17 번째 재귀 함수를 종료합니다.\n",
      "16 번째 재귀 함수를 종료합니다.\n",
      "15 번째 재귀 함수를 종료합니다.\n",
      "14 번째 재귀 함수를 종료합니다.\n",
      "13 번째 재귀 함수를 종료합니다.\n",
      "12 번째 재귀 함수를 종료합니다.\n",
      "11 번째 재귀 함수를 종료합니다.\n",
      "10 번째 재귀 함수를 종료합니다.\n",
      "9 번째 재귀 함수를 종료합니다.\n",
      "8 번째 재귀 함수를 종료합니다.\n",
      "7 번째 재귀 함수를 종료합니다.\n",
      "6 번째 재귀 함수를 종료합니다.\n",
      "5 번째 재귀 함수를 종료합니다.\n",
      "4 번째 재귀 함수를 종료합니다.\n",
      "3 번째 재귀 함수를 종료합니다.\n",
      "2 번째 재귀 함수를 종료합니다.\n",
      "1 번째 재귀 함수를 종료합니다.\n"
     ]
    }
   ],
   "source": [
    "def recursive_function(i):\n",
    "  if i==100:\n",
    "    return\n",
    "  print(i, '번째 재귀 함수에서',i+1,'번째 재귀 함수를 호출합니다.')\n",
    "  recursive_function(i+1)\n",
    "  print(i,'번째 재귀 함수를 종료합니다.')\n",
    "recursive_function(1)"
   ]
  },
  {
   "cell_type": "markdown",
   "metadata": {},
   "source": [
    "### 5-5"
   ]
  },
  {
   "cell_type": "code",
   "execution_count": null,
   "metadata": {},
   "outputs": [],
   "source": [
    "def factorial_iterative(n):\n",
    "  result=1\n",
    "  for i in range(1,n+1):\n",
    "    result*=i\n",
    "  return result\n",
    "\n",
    "def factorial recursive(n):\n",
    "  if n<=1:\n",
    "    return 1\n",
    "  return n*factorial_recursive(n-1)"
   ]
  },
  {
   "cell_type": "markdown",
   "metadata": {},
   "source": [
    "### 5-6"
   ]
  },
  {
   "cell_type": "code",
   "execution_count": null,
   "metadata": {},
   "outputs": [],
   "source": [
    "INF=999999999\n",
    "\n",
    "graph=[[0,7,5],\n",
    "       [7,0,INF],\n",
    "       [5,INF,0]]\n",
    "print(graph)"
   ]
  },
  {
   "cell_type": "markdown",
   "metadata": {},
   "source": [
    "### 5-7"
   ]
  },
  {
   "cell_type": "code",
   "execution_count": null,
   "metadata": {},
   "outputs": [],
   "source": [
    "graph=[[] for _ in range(3)]\n",
    "graph[0].append((1,7))\n",
    "graph[0].append((2,5))\n",
    "\n",
    "graph[1].append((0,7))\n",
    "graph[2].append((0,5))\n",
    "\n",
    "print(graph)"
   ]
  },
  {
   "cell_type": "markdown",
   "metadata": {},
   "source": [
    "### 5-8"
   ]
  },
  {
   "cell_type": "code",
   "execution_count": null,
   "metadata": {},
   "outputs": [],
   "source": [
    "def dfs(graph,v,visited):\n",
    "  visited[v]=True\n",
    "  print(v,end=' ')\n",
    "  for i in graph[v]:\n",
    "    if not visited[i]:\n",
    "      dfs(graph,i,visited)\n",
    "\n",
    "graph=[\n",
    "    [],\n",
    "    [2,3,8],\n",
    "    [1,7],\n",
    "    [1,4,5],\n",
    "    [3,5],\n",
    "    [3,4],\n",
    "    [7],\n",
    "    [2,6,8],\n",
    "    [1,7]\n",
    "]\n",
    "\n",
    "visited=[False]*9\n",
    "dfs(graph,1, visited)\n"
   ]
  },
  {
   "cell_type": "markdown",
   "metadata": {},
   "source": [
    "### 5-9"
   ]
  },
  {
   "cell_type": "code",
   "execution_count": null,
   "metadata": {},
   "outputs": [],
   "source": [
    "from collections import deque\n",
    "\n",
    "def bfs(graph, start, visited):\n",
    "  queue=deque([start])\n",
    "  visited[start]=True\n",
    "\n",
    "  while queue:\n",
    "    v=queue.popleft()\n",
    "    print(v,end=' ')\n",
    "    for i in graph[v]:\n",
    "      if not visited[i]:\n",
    "        queue.append(i)\n",
    "        visited[i]=True\n",
    "graph=[\n",
    "    [],\n",
    "    [2,3,8],\n",
    "    [1,7],\n",
    "    [1,4,5],\n",
    "    [3,5],\n",
    "    [3,4],\n",
    "    [7],\n",
    "    [2,6,8],\n",
    "    [1,7]\n",
    "]\n",
    "\n",
    "visited=[False]*9\n",
    "bfs(graph,1,visited)"
   ]
  },
  {
   "cell_type": "markdown",
   "metadata": {},
   "source": [
    "### 5-10"
   ]
  },
  {
   "cell_type": "code",
   "execution_count": null,
   "metadata": {},
   "outputs": [],
   "source": [
    "def dfs(x,y):\n",
    "  if x<=-1 or x>=n or y<=-1 or y>=m:\n",
    "    return False\n",
    "  if graph[x][y]==0:\n",
    "    graph[x][y]=1\n",
    "    dfs(x-1,y)\n",
    "    dfs(x,y-1)\n",
    "    dfs(x+1,y)\n",
    "    dfs(x,y+1)\n",
    "    return True\n",
    "  return False\n",
    "\n",
    "result=0\n",
    "for i in range(n):\n",
    "  for j in range(m):\n",
    "    if dfs(i,j)==True:\n",
    "      result+=1\n",
    "\n",
    "print(result)"
   ]
  },
  {
   "cell_type": "markdown",
   "metadata": {},
   "source": [
    "### 5-11"
   ]
  },
  {
   "cell_type": "code",
   "execution_count": null,
   "metadata": {},
   "outputs": [],
   "source": [
    "n,m=map(int,input().split())\n",
    "graph=[]\n",
    "for i in range(n):\n",
    "  graph.append(list(map(int,input())))\n",
    "\n",
    "dx=[-1,1,0,0]\n",
    "dy=[0,0,-1,1]\n",
    "\n",
    "def bfs(x,y):\n",
    "  queue=deque()\n",
    "  queue.append((x,y))\n",
    "\n",
    "  while queue:\n",
    "    x,y=queue.popleft()\n",
    "    for i in range(4):\n",
    "      nx=x+dx[i]\n",
    "      ny=y+dy[i]\n",
    "\n",
    "      if nx<0 or ny<0 or nx>=n or ny>=m:\n",
    "        continue\n",
    "      if graph[nx][ny]==0:\n",
    "        continue\n",
    "      if graph[nx][ny]==1:\n",
    "        graph[nx][ny]=graph[x][y]+1\n",
    "        queue.append((nx,ny))\n",
    "  return graph[n-1][m-1]\n",
    "\n",
    "print(bfs(0,0))"
   ]
  },
  {
   "cell_type": "markdown",
   "metadata": {},
   "source": [
    "## Chapter 06. 정렬"
   ]
  },
  {
   "cell_type": "markdown",
   "metadata": {},
   "source": [
    "### 6-4"
   ]
  },
  {
   "cell_type": "code",
   "execution_count": null,
   "metadata": {},
   "outputs": [],
   "source": [
    "array=[5,7,9,0,3,1,6,2,4,8]\n",
    "def quick_sort(array,start,end):\n",
    "  if start>=end: #원소가 1개인 경우 종료\n",
    "    return\n",
    "  pivot=start #피벗은 첫번째 원소\n",
    "  left=start+1\n",
    "  right=end\n",
    "  while left<=right:\n",
    "    #피벗보다 큰 데이터를 찾을 때까지 반복\n",
    "    while left<=end and array[left] <=array[pivot]:\n",
    "      left+=1\n",
    "    #피벗보다 작은 데이터를 찾을 때까지 반복\n",
    "    while right>start and array[right] >=array[pivot]:\n",
    "      right-=1\n",
    "    if left>right: #엇갈렸다면 작은 데이터와 피벗을 교체\n",
    "      array[right],array[pivot]=array[pivot],array[right]\n",
    "    else: #엇갈리지 않았다면 작은 데이터와 큰 데이터를 교체\n",
    "      array[left],array[right]=array[right],array[left]\n",
    "  #분할 이후 왼쪽 부분과 오른쪽 부분에서 각각 정렬 수행\n",
    "  quick_sort(array,start,right-1)\n",
    "  quick_sort(array,right+1,end)\n",
    "\n",
    "quick_sort(array,0,len(array)-1)\n",
    "print(array)\n"
   ]
  },
  {
   "cell_type": "markdown",
   "metadata": {},
   "source": [
    "### 6-5"
   ]
  },
  {
   "cell_type": "code",
   "execution_count": null,
   "metadata": {},
   "outputs": [],
   "source": [
    "array=[5,7,9,0,3,1,6,2,4,8]\n",
    "def quick_sort(array):\n",
    "  #리스트가 하나 이하의 원소만을 담고 있다면 종료\n",
    "  if len(array)<=1:\n",
    "    return array\n",
    "  \n",
    "  pivot=array[0] #피벗은 첫번째 원소\n",
    "  tail=array[1:] #피벗을 제외한 리스트\n",
    "\n",
    "  left_side=[x for x in tail if x<=pivot] #분할된 왼쪽 부분\n",
    "  right_side=[x for x in tail if x>pivot] #분할된 오른쪽 부분\n",
    "\n",
    "  #분할 이후 왼쪽 부분과 오른쪽 부분에서 각각 정렬을 수행하고, 전체 리스트를 반환\n",
    "  return quick_sort(left_side)+[pivot]+quick_sort(right_side)\n",
    "\n",
    "print(quick_sort(array))"
   ]
  },
  {
   "cell_type": "markdown",
   "metadata": {},
   "source": [
    "### 6-6"
   ]
  },
  {
   "cell_type": "code",
   "execution_count": null,
   "metadata": {},
   "outputs": [],
   "source": [
    "#N을 입력받기\n",
    "n=int(input())\n",
    "\n",
    "#N개의 정수를 입력받아 리스트에 저장\n",
    "array=[]\n",
    "for i in range(n):\n",
    "  array.append(int(input())\n",
    "\n",
    "array=sorted(array,reverse=True)\n",
    "\n",
    "for i in array:\n",
    "  print(i,end=' ')"
   ]
  },
  {
   "cell_type": "markdown",
   "metadata": {},
   "source": [
    "### 6-7"
   ]
  },
  {
   "cell_type": "code",
   "execution_count": null,
   "metadata": {},
   "outputs": [],
   "source": [
    "n=int(input())\n",
    "\n",
    "#N개의 정수를 입력받아 리스트에 저장\n",
    "array=[]\n",
    "for i in range(n):\n",
    "  array.append(list(input().split()))\n",
    "\n",
    "array=sorted(array,key=lambda x:x[1])\n",
    "for i in array:\n",
    "  print(i[0],end=' ')"
   ]
  },
  {
   "cell_type": "markdown",
   "metadata": {},
   "source": [
    "### 6-8"
   ]
  },
  {
   "cell_type": "code",
   "execution_count": null,
   "metadata": {},
   "outputs": [],
   "source": [
    "a,b=map(int,input().split())\n",
    "\n",
    "array=list(input().split())\n",
    "array2=list(input().split())\n",
    "\n",
    "array=sorted(array)\n",
    "array2=sorted(array2,reverse=True)\n",
    "\n",
    "for i in range(b):\n",
    "  array[i],array2[i]=array2[i],array[i]\n",
    "\n",
    "sum(map(int,array))"
   ]
  },
  {
   "cell_type": "markdown",
   "metadata": {},
   "source": [
    "### 6-9"
   ]
  },
  {
   "cell_type": "code",
   "execution_count": null,
   "metadata": {},
   "outputs": [],
   "source": [
    "#순차 탐색 소스코드 구현\n",
    "def sequential_search(n,target,array):\n",
    "  #각 원소를 하나씩 확인하며\n",
    "  for i in range(n):\n",
    "    #현재의 원소가 찾고자 하는 원소와 동일한 경우\n",
    "    if array[i]==target:\n",
    "      return i+1 #현재의 위치 반환(인덱스는 0부터 시작하므로 1 더하기)\n",
    "    \n",
    "print(\"생성할 원소 개수를 입력한 다음 한 칸 띄고 찾을 문자열을 입력하세요\")\n",
    "input_data=input().split()\n",
    "n=int(input_data[0])#원소의 개수\n",
    "target=input_data[1]#찾고자 하는 문자열\n",
    "\n",
    "print(\"앞서 적은 원소 개수만큼 문자열을 입력하세요. 구분은 띄어쓰기 한 칸으로 합니다.\")\n",
    "array=input().split()\n",
    "\n",
    "#순차 탐색 수행 결과 출력\n",
    "print(sequential_search(n,target,array))"
   ]
  },
  {
   "cell_type": "markdown",
   "metadata": {},
   "source": [
    "### 6-10"
   ]
  },
  {
   "cell_type": "code",
   "execution_count": null,
   "metadata": {},
   "outputs": [],
   "source": [
    "#이진 탐색 소스코드 구현(재귀 함수)\n",
    "def binary_search(array,target,start,end):\n",
    "  if start>end:\n",
    "    return None\n",
    "  mid=(start+end)//2\n",
    "  #찾은 경우 중간점 인덱스 반환\n",
    "  if array[mid] == target:\n",
    "    return mid\n",
    "  #중간점의 값보다 찾고자 하는 값이 작은 경우 왼쪽 확인\n",
    "  elif array[mid] > target:\n",
    "    return binary_search(array,target,start,mid-1)\n",
    "  #중간점의 값보다 찾고자 하는 값이 큰 경우 오른쪽 확인\n",
    "  else:\n",
    "    return binary_search(array,target,mid+1,end)\n",
    "  \n",
    "#n(원소의 개수)와 target(찾고자 하는 문자열)을 입력받기\n",
    "n,target=list(map(int,input().split()))\n",
    "#전체 원소 입력받기\n",
    "array=list(map(int,input().split()))\n",
    "\n",
    "#이진 탐색 수행 결과 출력\n",
    "result=binary_search(array,target,0,n-1)\n",
    "if result==None:\n",
    "  print('원소가 존재하지 않습니다.')\n",
    "else:\n",
    "  print(result+1)"
   ]
  },
  {
   "cell_type": "markdown",
   "metadata": {},
   "source": [
    "### 6-11"
   ]
  },
  {
   "cell_type": "code",
   "execution_count": null,
   "metadata": {},
   "outputs": [],
   "source": [
    "#이진 탐색 소스코드 구현(반복문)\n",
    "def binary_search(array,target,start,end):\n",
    "  while start<=end:\n",
    "    mid(start+end)//2\n",
    "    #찾은 경우 중간점 인덱스 반환\n",
    "    if array[mid] == target:\n",
    "      return mid\n",
    "    #중간점의 값보다 찾고자 하는 값이 작은 경우 왼쪽 확인\n",
    "    elif array[mid]>target:\n",
    "      end=mid-1\n",
    "    #중간점의 값보다 찾고자 하는 값이 큰 경우 오른쪽 확인\n",
    "    else:\n",
    "      start=mid+1\n",
    "  return None\n",
    "\n",
    "#n(원소의 개수)와 target(찾고자 하는 문자열)을 입력받기\n",
    "n,target=list(map(int,input().split()))\n",
    "#전체 원소 입력받기\n",
    "array=list(map(int,input().split()))\n",
    "\n",
    "#이진 탐색 수행 결과 출력\n",
    "result=binary_search(array,target,0,n-1)\n",
    "if result==None:\n",
    "  print('원소가 존재하지 않습니다.')\n",
    "else:\n",
    "  pritn(result+1)"
   ]
  }
 ],
 "metadata": {
  "colab": {
   "provenance": []
  },
  "kernelspec": {
   "display_name": "Python 3 (ipykernel)",
   "language": "python",
   "name": "python3"
  },
  "language_info": {
   "codemirror_mode": {
    "name": "ipython",
    "version": 3
   },
   "file_extension": ".py",
   "mimetype": "text/x-python",
   "name": "python",
   "nbconvert_exporter": "python",
   "pygments_lexer": "ipython3",
   "version": "3.10.4"
  }
 },
 "nbformat": 4,
 "nbformat_minor": 1
}
